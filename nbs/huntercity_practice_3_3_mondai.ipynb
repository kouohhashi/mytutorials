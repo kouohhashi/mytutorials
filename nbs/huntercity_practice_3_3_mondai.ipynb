{
  "cells": [
    {
      "cell_type": "markdown",
      "metadata": {
        "id": "dLptC6Q6PR8w"
      },
      "source": [
        "# 実践その参（言語処理パート）\n",
        "\n",
        "HugginefaceのRobertモデルを使って、ジャンルを分類し、その後OpenAI社のGPTのAPIを使って回答を生成する。\n",
        "\n",
        "本課題は前半と後半に分かれます。\n",
        "\n",
        "前半:\n",
        "HugginefaceのRobertモデルを使って、ジャンルを分類できるモデルの定義、学習\n",
        "\n",
        "後半:\n",
        "GPTを使ってのリクエスト\n",
        "\n",
        "\n",
        "想定される実際のタスク:\n",
        "「コールセンターのやりとりを問い合わせとクレームの2種類に分類」し「簡単な状況説明を生成しつつスーパーバイザーに通知する」など。\n",
        "\n",
        "\n",
        "## 条件\n",
        "- HugginefaceのRobertaモデルを使うこと。\n",
        "- 学習のループは自分で書くこと\n",
        "- 生成にはOpenAI社のGPTを使うこと\n",
        "- テスト用の質問に対してreazonableな回答が生成できること\n",
        "\n",
        "このタスクではGPTをAPI経由で使う必要があります。\n",
        "そのため、いくばくかの費用がかかる可能性がありますので、ご理解いただけますと幸いです。"
      ]
    },
    {
      "cell_type": "code",
      "execution_count": null,
      "metadata": {
        "id": "gMjdjtcwPR8y"
      },
      "outputs": [],
      "source": []
    },
    {
      "cell_type": "code",
      "execution_count": null,
      "metadata": {
        "id": "wIZTAmy7PR8y"
      },
      "outputs": [],
      "source": [
        "# ここにStudent IDを記載しておいてください。\n",
        "Student_ID = \"\""
      ]
    },
    {
      "cell_type": "code",
      "execution_count": null,
      "metadata": {
        "id": "vekXoC2aPR8z"
      },
      "outputs": [],
      "source": []
    },
    {
      "cell_type": "code",
      "execution_count": null,
      "metadata": {
        "id": "aJ3PtYMYa_CB"
      },
      "outputs": [],
      "source": [
        "import warnings\n",
        "warnings.filterwarnings('ignore')"
      ]
    },
    {
      "cell_type": "code",
      "execution_count": null,
      "metadata": {
        "id": "QoxqjBbxbEQ_"
      },
      "outputs": [],
      "source": [
        "# import\n",
        "\n",
        "import os\n",
        "import numpy as np\n",
        "import math\n",
        "import random\n",
        "import torch\n",
        "\n",
        "import random\n",
        "random.seed(55)"
      ]
    },
    {
      "cell_type": "code",
      "execution_count": null,
      "metadata": {
        "id": "RN5mpepLKaZn"
      },
      "outputs": [],
      "source": []
    },
    {
      "cell_type": "code",
      "execution_count": null,
      "metadata": {
        "id": "ZnMEuNarPR80"
      },
      "outputs": [],
      "source": []
    },
    {
      "cell_type": "markdown",
      "metadata": {
        "id": "Mm28nkCOVwRH"
      },
      "source": [
        "# 前半"
      ]
    },
    {
      "cell_type": "markdown",
      "metadata": {
        "id": "28dILXQ7PR81"
      },
      "source": [
        "## データの準備\n",
        "\n",
        "最低でも３種類以上のテキストデータを用意します。\n",
        "\n",
        "もし、どんなデータを使って良いかわからない場合は、青空文庫から探してみましょう。\n",
        "\n",
        "https://www.aozora.gr.jp/"
      ]
    },
    {
      "cell_type": "code",
      "execution_count": null,
      "metadata": {
        "id": "0Lrf-UGhPR81"
      },
      "outputs": [],
      "source": []
    },
    {
      "cell_type": "code",
      "execution_count": null,
      "metadata": {
        "id": "deq65xbsbHAt"
      },
      "outputs": [],
      "source": [
        "# 以下はlivedoorニュースを使った場合。\n",
        "# 9通りのカテゴリーが入ってます。\n",
        "\n",
        "# # livedoorニュースのデータセットをダウンロードして、解凍します。\n",
        "\n",
        "# ! wget https://www.rondhuit.com/download/ldcc-20140209.tar.gz\n",
        "# ! tar xvzf ldcc-20140209.tar.gz"
      ]
    },
    {
      "cell_type": "code",
      "execution_count": null,
      "metadata": {
        "id": "9arJZeXnbJz9"
      },
      "outputs": [],
      "source": []
    },
    {
      "cell_type": "code",
      "execution_count": null,
      "metadata": {
        "id": "xAkCwKVdbMqE"
      },
      "outputs": [],
      "source": [
        "# # カテゴリー一覧（例）\n",
        "# category_list = [\n",
        "#     \"dokujo-tsushin\",\n",
        "#     \"it-life-hack\",\n",
        "#     \"kaden-channel\",\n",
        "#     \"livedoor-homme\",\n",
        "#     \"movie-enter\",\n",
        "#     \"peachy\",\n",
        "#     \"smax\",\n",
        "#     \"sports-watch\",\n",
        "#     \"topic-news\",\n",
        "# ]\n",
        "\n",
        "# カテゴリーの一覧（カテゴリー名は自分で考える）\n",
        "category_list = [\n",
        "    \"category1\",\n",
        "    \"category2\",\n",
        "    \"category3\",\n",
        "]"
      ]
    },
    {
      "cell_type": "code",
      "execution_count": null,
      "metadata": {
        "id": "0oddK-vKelOk"
      },
      "outputs": [],
      "source": []
    },
    {
      "cell_type": "code",
      "execution_count": null,
      "metadata": {
        "id": "OWFZyX0melLj"
      },
      "outputs": [],
      "source": [
        "# ディレクトリをチェックして、リストに格納します。\n",
        "\n",
        "import glob\n",
        "\n",
        "# read files\n",
        "files1 = glob.glob('./text/*/*.txt')\n",
        "\n",
        "files2 = []\n",
        "for item in files1:\n",
        "    if \"LICENSE.txt\" not in item:\n",
        "        files2.append(item)\n",
        "\n",
        "len(files2)"
      ]
    },
    {
      "cell_type": "code",
      "execution_count": null,
      "metadata": {
        "id": "UTjmH7blelJy"
      },
      "outputs": [],
      "source": []
    },
    {
      "cell_type": "markdown",
      "metadata": {
        "id": "V-NAR-OEek9o"
      },
      "source": [
        "## Haggingface\n",
        "\n",
        "本プロジェクトではHaggingfaceのソースコードを利用します。\n",
        "\n",
        "https://github.com/huggingface/transformers\n"
      ]
    },
    {
      "cell_type": "code",
      "execution_count": null,
      "metadata": {
        "id": "O7eE9DbdPrp0"
      },
      "outputs": [],
      "source": [
        "# transformersをインストールします。\n",
        "!pip install transformers --upgrade"
      ]
    },
    {
      "cell_type": "code",
      "execution_count": null,
      "metadata": {
        "id": "_cIpR_0WPrl_"
      },
      "outputs": [],
      "source": [
        "from transformers import AutoTokenizer, RobertaForSequenceClassification, RobertaForMaskedLM, RobertaForSequenceClassification"
      ]
    },
    {
      "cell_type": "code",
      "execution_count": null,
      "metadata": {
        "id": "nvvQuNbgDchl"
      },
      "outputs": [],
      "source": []
    },
    {
      "cell_type": "markdown",
      "metadata": {
        "id": "Zrozw4hYQFaY"
      },
      "source": [
        "## トークナイザー"
      ]
    },
    {
      "cell_type": "code",
      "execution_count": null,
      "metadata": {
        "id": "zt88zOX6PrgS"
      },
      "outputs": [],
      "source": [
        "# tokenizer\n",
        "# 本当はトークナイザーも自作できた方が良いのですが、作成にはそこそこパワーのあるマシンが必要になるため、使えるものをご提供します。\n",
        "\n",
        "# トークナイザをダウンロード\n",
        "! wget https://payloadcms.shabelab.com/assets/datasets/roberta_base_tokenizer_0511.tar.gz\n",
        "\n",
        "# ダウンロードしたトークナイザを解凍\n",
        "! tar xvzf roberta_base_tokenizer_0511.tar.gz"
      ]
    },
    {
      "cell_type": "code",
      "execution_count": null,
      "metadata": {
        "id": "MEHSivuFPrdH"
      },
      "outputs": [],
      "source": [
        "# トークナイザをインスタンス化\n",
        "tokenizer = AutoTokenizer.from_pretrained(\"./roberta_base_tokenizer_0511\")"
      ]
    },
    {
      "cell_type": "code",
      "execution_count": null,
      "metadata": {
        "id": "ZKZxbjSwQPTS"
      },
      "outputs": [],
      "source": [
        "# トークナイザをテスト\n",
        "tokenizer(\"今日の晩御飯はカレーでした。\")"
      ]
    },
    {
      "cell_type": "code",
      "execution_count": null,
      "metadata": {
        "id": "zUIb-dChQPOc"
      },
      "outputs": [],
      "source": [
        "tokenizer.decode([0, 8296, 27403, 1751, 2908, 289, 14114, 4215, 283, 2])"
      ]
    },
    {
      "cell_type": "code",
      "execution_count": null,
      "metadata": {
        "id": "RRtH-Vm1QPHC"
      },
      "outputs": [],
      "source": []
    },
    {
      "cell_type": "markdown",
      "metadata": {
        "id": "61McE-GWelGN",
        "outputId": "d1615e0e-d868-4e09-9356-dfdd2f4ebf4f"
      },
      "source": [
        "## Datasetの準備\n",
        "\n",
        "ヒント動画を参考にしても良いですし、他のリソースを参考にしていただいても構いません。\n",
        "\n",
        "バッチデータを以下のような感じで取得して情報を出力すると\n",
        "```\n",
        "one_batch = next(iter(train_loader))\n",
        "print(\"one_batch count: \", len(one_batch))\n",
        "print(\"\")\n",
        "print(\"one_batch.0.shape: \", one_batch[0].shape)\n",
        "print(\"one_batch.1.shape: \", one_batch[1].shape)\n",
        "print(\"one_batch.2.shape: \", one_batch[2].shape)\n",
        "print(\"\")\n",
        "print(\"one_batch.1: \", one_batch[1])\n",
        "print(\"one_batch.2: \", one_batch[2])\n",
        "```\n",
        "\n",
        "以下のようなデータが出力されます。\n",
        "```\n",
        "one_batch count:  3\n",
        "\n",
        "one_batch.0.shape:  torch.Size([2, 512])\n",
        "one_batch.1.shape:  torch.Size([2, 512])\n",
        "one_batch.2.shape:  torch.Size([2, 1])\n",
        "\n",
        "one_batch.1:  tensor([[1, 1, 1,  ..., 1, 1, 1],\n",
        "        [1, 1, 1,  ..., 1, 1, 1]])\n",
        "one_batch.2:  tensor([[0],\n",
        "        [8]])\n",
        "```\n",
        "\n",
        "取得できるデータは順番に実際のインプットデータ、マスクデータ、そして正解ラベルとなっている必要があります。\n",
        "マスクデータはblock_sizeが512でインプットするデータのトークン数が512以上の場合（512までで残りはカットされます）は512個の1がならび、512未満の場合はトークンの存在するところまでは1でそれ以外（パディングで埋められた部分）が0となります。\n",
        "\n",
        "ところで、一つのバッチに入ってきたデータのトークン数が150と170など、いずれも最大直に満たない場合は、大きな方の値（この例では170）に揃えるようにしてください。\n",
        "\n",
        "ヒント1: 講師はDataset型を継承したMyDatasetを定義し、バッチ化する際にcollateファンクションを使ってマスクを作成しています。  \n",
        "ヒント2: transformersを使ったモデルが重たいので、バッチサイズは2くらいで十分です。"
      ]
    },
    {
      "cell_type": "code",
      "execution_count": null,
      "metadata": {
        "id": "4HJaer7FPgPN"
      },
      "outputs": [],
      "source": []
    },
    {
      "cell_type": "markdown",
      "metadata": {
        "id": "7gJ2Xo3aPR9B"
      },
      "source": [
        "## アーキテクチャ"
      ]
    },
    {
      "cell_type": "code",
      "execution_count": null,
      "metadata": {
        "id": "Bh7bhDQxPR9B"
      },
      "outputs": [],
      "source": [
        "# スクラッチでゼロから学習を行うには流石にデータセットが少ないので、pre-trainedのウェイトをダウンロードし、\n",
        "# そこからファインチューニングを書けることにします。\n",
        "! wget https://payloadcms.shabelab.com/assets/datasets/roberta-pretrain-0-1500000.tar.gz"
      ]
    },
    {
      "cell_type": "code",
      "execution_count": null,
      "metadata": {
        "id": "r9CQLbYxRTMs"
      },
      "outputs": [],
      "source": [
        "# ダウンロードしてきたウェイトを解凍します。\n",
        "! tar xvxf roberta-pretrain-0-1500000.tar.gz"
      ]
    },
    {
      "cell_type": "code",
      "execution_count": null,
      "metadata": {
        "id": "mPwVxnZ-dD6g"
      },
      "outputs": [],
      "source": [
        "# change number of lables\n",
        "# num_labelsでカテゴリー数を指定します。\n",
        "# 分類するドキュメントが３種類の場合は３を指定してください\n",
        "\n",
        "# mm_config.num_labels = 9\n",
        "model = RobertaForSequenceClassification.from_pretrained(\n",
        "    \"./roberta-pretrain-0-1500000/\", num_labels=9)\n",
        "\n",
        "model.classifier\n"
      ]
    },
    {
      "cell_type": "code",
      "execution_count": null,
      "metadata": {
        "id": "j1WwaOJMPR9C"
      },
      "outputs": [],
      "source": []
    },
    {
      "cell_type": "markdown",
      "metadata": {
        "id": "VPUKDnmYPR9C"
      },
      "source": [
        "## トレーニングループ\n",
        "\n",
        "下記を参考に学習ループを自分で作成しましょう。  \n",
        "https://huggingface.co/transformers/model_doc/roberta.html#robertaforsequenceclassification\n",
        "\n",
        "ヒント: GoogleのColabは1時間触らないでいるとタイムアウトします。学習には最低でも数時間かかります。  \n",
        "途中で止めて、そこまでのウェイトを保存、ダウンロードして、次回をそれをアップロード、読み込むことで途中から始めることも可能です。"
      ]
    },
    {
      "cell_type": "code",
      "execution_count": null,
      "metadata": {
        "id": "GwHWijoXfbX0"
      },
      "outputs": [],
      "source": [
        "# optimizer\n",
        "# 下記はadamを使っていますが、他のものを使ってもokです。\n",
        "\n",
        "optimizer = torch.optim.Adam(model.parameters(), lr=2e-5)"
      ]
    },
    {
      "cell_type": "code",
      "execution_count": null,
      "metadata": {
        "id": "ddW9kLvdfhef"
      },
      "outputs": [],
      "source": [
        "# device\n",
        "\n",
        "device = torch.device(\"cuda:0\")\n",
        "model = model.to(device)\n"
      ]
    },
    {
      "cell_type": "code",
      "execution_count": null,
      "metadata": {
        "id": "Ro-t8OLgdvTf"
      },
      "outputs": [],
      "source": [
        "# 学習ループ\n",
        "# ここに for ループを作成してください。\n"
      ]
    },
    {
      "cell_type": "code",
      "execution_count": null,
      "metadata": {
        "id": "a4-GHk8PwN5_"
      },
      "outputs": [],
      "source": []
    },
    {
      "cell_type": "code",
      "execution_count": null,
      "metadata": {
        "id": "aHOj_z4MPR9D"
      },
      "outputs": [],
      "source": [
        "# save\n",
        "model.save_pretrained(\"checkpoint-1\")"
      ]
    },
    {
      "cell_type": "code",
      "execution_count": null,
      "metadata": {
        "id": "qld99PDRPR9E"
      },
      "outputs": [],
      "source": []
    },
    {
      "cell_type": "markdown",
      "metadata": {
        "id": "eYYQ9nZzPR9E"
      },
      "source": [
        "## 前半のテスト\n",
        "\n",
        "下記は変更の必要はありません。  \n",
        "例では\"sports-watch\"として推論できればokです。\n"
      ]
    },
    {
      "cell_type": "code",
      "execution_count": null,
      "metadata": {
        "id": "it_H6_vjfQmf"
      },
      "outputs": [],
      "source": [
        "from transformers import AutoTokenizer, RobertaForSequenceClassification, RobertaForMaskedLM"
      ]
    },
    {
      "cell_type": "code",
      "execution_count": null,
      "metadata": {
        "id": "65NWzKbNhoBO"
      },
      "outputs": [],
      "source": []
    },
    {
      "cell_type": "code",
      "execution_count": null,
      "metadata": {
        "id": "TAOj7Z7shrCK"
      },
      "outputs": [],
      "source": [
        "model2 = model.from_pretrained(\"checkpoint-1\")\n",
        "model2.classifier"
      ]
    },
    {
      "cell_type": "code",
      "execution_count": null,
      "metadata": {
        "id": "jeFKS8hqhukG"
      },
      "outputs": [],
      "source": [
        "# 自分で、自分で学習させたテキストのサンプルを入れてください。\n",
        "# 学習データと全く同じものは避けてください。\n",
        "\n",
        "sample \"\"\n",
        "# sample = \"前田智徳氏、走攻守そろった新人・近本光司を称賛　「ルーキーではなかなかできません」0LINE共有ボタン2019年5月23日 13時30分 Sports Watch22日放送、テレビ朝日「報道ステーション」に、野球解説者の前田智徳氏が出演。阪神タイガースの新人・近本光司を称賛した。同日の東京ヤクルトスワローズ戦で、近本は守備でチームを救った。1-1の同点で迎えた5回表、二死二塁のピンチで、見事なバックホームから失点を防いだ。危機を脱した阪神は、7回ウラに糸井嘉男のタイムリーで勝ち越し、連勝を飾っている。前田氏は近本の守備を称賛したうえで、「注目は足」と述べた。この日の近本は、1回に内野安打で出塁すると盗塁成功。5回にも三盗を決めている。盗塁数はリーグトップの13。新人で盗塁王となれば、39盗塁を記録した2001年の赤星憲広以来、18年ぶりの快挙だ。前田氏は「十分にチャンスはある」と、近本のさらなる盗塁に太鼓判を押す。さらに、前田氏は「軸足にしっかり体重を乗せて、レフト（逆方向）へ力強い打球を打てる」と、近本の打撃にも称賛。「ルーキーではなかなかできません」と、走攻守の三拍子がそろった近本が新人離れしていると賛辞を寄せた。\"\n",
        "\n",
        "input_ids = tokenizer(\n",
        "        sample,\n",
        "        add_special_tokens=True,\n",
        "        return_tensors=\"pt\",\n",
        "        max_length=512,\n",
        "        truncation=True,).input_ids\n",
        "\n",
        "input_ids.shape\n"
      ]
    },
    {
      "cell_type": "code",
      "execution_count": null,
      "metadata": {
        "id": "-riKiruxh686"
      },
      "outputs": [],
      "source": [
        "resuslts = model2(input_ids=input_ids)\n",
        "\n",
        "logits = resuslts.logits\n",
        "logits.shape"
      ]
    },
    {
      "cell_type": "code",
      "execution_count": null,
      "metadata": {
        "id": "oThKnH3fh6yj"
      },
      "outputs": [],
      "source": [
        "_index = logits.argmax().item()\n",
        "_index"
      ]
    },
    {
      "cell_type": "code",
      "execution_count": null,
      "metadata": {
        "id": "4vCieitAiAev"
      },
      "outputs": [],
      "source": [
        "category_list[_index]"
      ]
    },
    {
      "cell_type": "code",
      "execution_count": null,
      "metadata": {
        "id": "KDsvRAegWB8h"
      },
      "outputs": [],
      "source": []
    },
    {
      "cell_type": "code",
      "execution_count": null,
      "metadata": {
        "id": "I0ZKPe0DWB1E"
      },
      "outputs": [],
      "source": []
    },
    {
      "cell_type": "markdown",
      "metadata": {
        "id": "dVk3dHOvWC16"
      },
      "source": [
        "# 後半"
      ]
    },
    {
      "cell_type": "markdown",
      "metadata": {
        "id": "iJImVVEpiCAz"
      },
      "source": [
        "やりとりの作成（回答の生成）はGPTで行います\n",
        "\n",
        "まずは、以下のコードでopenaiのライブラリをインストールしてください。\n",
        "\n",
        "!pip install openai\n",
        "\n",
        "以下はGPTの使用例です\n",
        "\n",
        "```\n",
        "import os\n",
        "import openai\n",
        "openai.api_key = \"OPENAI_API_KEY\"\n",
        "\n",
        "completion = openai.ChatCompletion.create(\n",
        "  model=\"gpt-3.5-turbo\",\n",
        "  messages=[\n",
        "    {\"role\": \"system\", \"content\": \"あなたなアシスタントです。ドキュメントの分類を担当します\"},\n",
        "    {\"role\": \"user\", \"content\": \"こんにちは！\"}\n",
        "  ]\n",
        ")\n",
        "\n",
        "print(completion.choices[0].message)\n",
        "```"
      ]
    },
    {
      "cell_type": "code",
      "execution_count": null,
      "metadata": {
        "id": "Wb8WXmGPWIWw"
      },
      "outputs": [],
      "source": []
    },
    {
      "cell_type": "code",
      "execution_count": null,
      "metadata": {
        "id": "cJfG-1hrWIUr"
      },
      "outputs": [],
      "source": []
    },
    {
      "cell_type": "code",
      "execution_count": null,
      "metadata": {
        "id": "6Yj6qkU3WIN9"
      },
      "outputs": [],
      "source": []
    },
    {
      "cell_type": "markdown",
      "metadata": {
        "id": "C9XJxWWQWWEZ"
      },
      "source": [
        "# 最終連結テスト\n",
        "\n",
        "\n",
        "想定するやりとりのイメージは以下の通りです。\n",
        "\n",
        "1. まずユーザーがメッセージを送ります。\n",
        "\n",
        "2. データをプログラムで分類します。\n",
        "\n",
        "3. アシスタントに 2. で分類した結果を貼り付けて質問を送ります。\n",
        "\n",
        "4. アシスタントから回答が返ってくる\n",
        "\n",
        "大抵の回答／分類はGPTだけでもできますが、カテゴリー名が１００％一致するわけでもなく、かつ無料でも無いので、「何についての問い合わせか」をデータベースへ保存しておく目的であれば、固定が便利です。早いし。"
      ]
    },
    {
      "cell_type": "code",
      "execution_count": null,
      "metadata": {
        "id": "3nsan_tZYsz6"
      },
      "outputs": [],
      "source": []
    },
    {
      "cell_type": "code",
      "execution_count": null,
      "metadata": {
        "id": "8ntpmJwbYsz6"
      },
      "outputs": [],
      "source": []
    },
    {
      "cell_type": "code",
      "execution_count": null,
      "metadata": {
        "id": "fv7IlGb4Ysz6"
      },
      "outputs": [],
      "source": [
        "# 1. まず質問分を作成してください。\n",
        "\n",
        "# user_query = \"\"\"\n",
        "# 以下の文章を要約してもらえますか？\n",
        "#\n",
        "# 前田智徳氏、走攻守そろった新人・近本光司を称賛　「ルーキーではなかなかできません」0LINE共有ボタン2019年5月23日 13時30分 Sports Watch22日放送、テレビ朝日「報道ステーション」に、野球解説者の前田智徳氏が出演。阪神タイガースの新人・近本光司を称賛した。同日の東京ヤクルトスワローズ戦で、近本は守備でチームを救った。1-1の同点で迎えた5回表、二死二塁のピンチで、見事なバックホームから失点を防いだ。\n",
        "# 危機を脱した阪神は、7回ウラに糸井嘉男のタイムリーで勝ち越し、連勝を飾っている。前田氏は近本の守備を称賛したうえで、「注目は足」と述べた。\n",
        "# この日の近本は、1回に内野安打で出塁すると盗塁成功。5回にも三盗を決めている。盗塁数はリーグトップの13。新人で盗塁王となれば、39盗塁を記録した2001年の赤星憲広以来、18年ぶりの快挙だ。前田氏は「十分にチャンスはある」と、近本のさらなる盗塁に太鼓判を押す。さらに、前田氏は「軸足にしっかり体重を乗せて、レフト（逆方向）へ力強い打球を打てる」と、近本の打撃にも称賛。\n",
        "# 「ルーキーではなかなかできません」と、走攻守の三拍子がそろった近本が新人離れしていると賛辞を寄せた。\n",
        "# \"\"\"\n",
        "\n",
        "user_query = \"\"\n",
        "\n"
      ]
    },
    {
      "cell_type": "code",
      "execution_count": null,
      "metadata": {
        "id": "pEkVIBo7UzLW"
      },
      "outputs": [],
      "source": [
        "# 2. 分類\n",
        "# 前半最後の部分でやった分類をここにも書く。関数化できているとベター\n",
        "\n",
        "# 以下は例です\n",
        "# user_query_with_cateogry = \"\"\"\n",
        "# 以下の文章を要約してもらえますか？\n",
        "\n",
        "# 前田智徳氏、走攻守そろった新人・近本光司を称賛　「ルーキーではなかなかできません」0LINE共有ボタン2019年5月23日 13時30分 Sports Watch22日放送、テレビ朝日「報道ステーション」に、野球解説者の前田智徳氏が出演。阪神タイガースの新人・近本光司を称賛した。同日の東京ヤクルトスワローズ戦で、近本は守備でチームを救った。1-1の同点で迎えた5回表、二死二塁のピンチで、見事なバックホームから失点を防いだ。\n",
        "# 危機を脱した阪神は、7回ウラに糸井嘉男のタイムリーで勝ち越し、連勝を飾っている。前田氏は近本の守備を称賛したうえで、「注目は足」と述べた。\n",
        "# この日の近本は、1回に内野安打で出塁すると盗塁成功。5回にも三盗を決めている。盗塁数はリーグトップの13。新人で盗塁王となれば、39盗塁を記録した2001年の赤星憲広以来、18年ぶりの快挙だ。前田氏は「十分にチャンスはある」と、近本のさらなる盗塁に太鼓判を押す。さらに、前田氏は「軸足にしっかり体重を乗せて、レフト（逆方向）へ力強い打球を打てる」と、近本の打撃にも称賛。\n",
        "# 「ルーキーではなかなかできません」と、走攻守の三拍子がそろった近本が新人離れしていると賛辞を寄せた。\n",
        "\n",
        "# カテゴリー名も返してください。カテゴリー名はバックエンドシステムで使うので変更しないでください。\n",
        "# カテゴリー名: 「sports-watch」\n",
        "# \"\"\"\n",
        "\n",
        "user_query_with_cateogry = \"\""
      ]
    },
    {
      "cell_type": "code",
      "execution_count": null,
      "metadata": {
        "id": "Pn8LQK08Ysz6"
      },
      "outputs": [],
      "source": [
        "# !pip install openai"
      ]
    },
    {
      "cell_type": "code",
      "execution_count": null,
      "metadata": {
        "id": "iYG7dUFWUzJZ",
        "outputId": "290e1c4f-afc7-4e97-fbcc-298bfc584948"
      },
      "outputs": [
        {
          "name": "stdout",
          "output_type": "stream",
          "text": [
            "カテゴリー名: 「sports-watch」\n",
            "\n",
            "野球解説者の前田智徳氏が阪神タイガースの新人・近本光司を称賛し、走攻守の三拍子がそろった近本の実績に賛辞を寄せた。近本は守備でチームを救い、盗塁でも活躍しており、新人離れしていると評価されている。\n"
          ]
        }
      ],
      "source": [
        "# 3. GPTに回答を生成させます。\n",
        "\n",
        "\n",
        "import os\n",
        "import openai\n",
        "openai.api_key = \"＜OpenAIのキー＞\"\n",
        "\n",
        "completion = openai.ChatCompletion.create(\n",
        "  model=\"gpt-3.5-turbo\",\n",
        "  messages=[\n",
        "    {\n",
        "        \"role\": \"system\",\n",
        "        \"content\": \"あなたなアシスタントです。\"\n",
        "    },\n",
        "    {\n",
        "        \"role\": \"user\",\n",
        "        \"content\": user_query_with_cateogry\n",
        "    },\n",
        "  ]\n",
        ")\n",
        "\n",
        "print(completion.choices[0].message.content)\n"
      ]
    },
    {
      "cell_type": "code",
      "execution_count": null,
      "metadata": {
        "id": "l5blv0zxUzBk"
      },
      "outputs": [],
      "source": []
    },
    {
      "cell_type": "code",
      "execution_count": null,
      "metadata": {
        "id": "Vh7k-QbXWSPg"
      },
      "outputs": [],
      "source": []
    }
  ],
  "metadata": {
    "accelerator": "GPU",
    "colab": {
      "provenance": []
    },
    "kernelspec": {
      "display_name": "Python 3 (ipykernel)",
      "language": "python",
      "name": "python3"
    },
    "language_info": {
      "codemirror_mode": {
        "name": "ipython",
        "version": 3
      },
      "file_extension": ".py",
      "mimetype": "text/x-python",
      "name": "python",
      "nbconvert_exporter": "python",
      "pygments_lexer": "ipython3",
      "version": "3.9.13"
    }
  },
  "nbformat": 4,
  "nbformat_minor": 0
}