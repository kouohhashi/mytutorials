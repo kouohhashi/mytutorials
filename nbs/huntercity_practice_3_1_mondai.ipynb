{
  "cells": [
    {
      "cell_type": "markdown",
      "metadata": {
        "id": "dLptC6Q6PR8w"
      },
      "source": [
        "# 実践その参（言語処理パート）\n",
        "\n",
        "HugginefaceのRobertモデルを使って、ジャンルを分類する。\n",
        "\n",
        "やり方の細かい部分は問いません。動けばOKです。\n",
        "\n",
        "想定される実際のタスク:\n",
        "「コールセンターのやりとりを問い合わせとクレームの2種類に分類する」など。\n",
        "\n",
        "\n",
        "## 条件\n",
        "- HugginefaceのRobertaモデルを使うこと。\n",
        "- 学習のループは自分で書くこと\n",
        "- テスト用のパラグラフが正しく推論できること"
      ]
    },
    {
      "cell_type": "code",
      "execution_count": null,
      "metadata": {
        "id": "gMjdjtcwPR8y"
      },
      "outputs": [],
      "source": []
    },
    {
      "cell_type": "code",
      "execution_count": null,
      "metadata": {
        "id": "wIZTAmy7PR8y"
      },
      "outputs": [],
      "source": [
        "# ここにStudent IDを記載しておいてください。\n",
        "Student_ID = \"\""
      ]
    },
    {
      "cell_type": "code",
      "execution_count": null,
      "metadata": {
        "id": "vekXoC2aPR8z"
      },
      "outputs": [],
      "source": []
    },
    {
      "cell_type": "code",
      "execution_count": null,
      "metadata": {
        "id": "aJ3PtYMYa_CB"
      },
      "outputs": [],
      "source": [
        "import warnings\n",
        "warnings.filterwarnings('ignore')"
      ]
    },
    {
      "cell_type": "code",
      "execution_count": null,
      "metadata": {
        "id": "QoxqjBbxbEQ_"
      },
      "outputs": [],
      "source": [
        "# import\n",
        "\n",
        "import os\n",
        "import numpy as np\n",
        "import math\n",
        "import random\n",
        "import torch\n",
        "\n",
        "import random\n",
        "random.seed(55)"
      ]
    },
    {
      "cell_type": "code",
      "execution_count": null,
      "metadata": {
        "id": "RN5mpepLKaZn"
      },
      "outputs": [],
      "source": []
    },
    {
      "cell_type": "code",
      "execution_count": null,
      "metadata": {
        "id": "ZnMEuNarPR80"
      },
      "outputs": [],
      "source": []
    },
    {
      "cell_type": "markdown",
      "metadata": {
        "id": "28dILXQ7PR81"
      },
      "source": [
        "# データの準備\n"
      ]
    },
    {
      "cell_type": "code",
      "execution_count": null,
      "metadata": {
        "id": "0Lrf-UGhPR81"
      },
      "outputs": [],
      "source": []
    },
    {
      "cell_type": "code",
      "execution_count": null,
      "metadata": {
        "id": "deq65xbsbHAt"
      },
      "outputs": [],
      "source": [
        "# livedoorニュースのデータセットをダウンロードして、解凍します。\n",
        "\n",
        "! wget https://www.rondhuit.com/download/ldcc-20140209.tar.gz\n",
        "! tar xvzf ldcc-20140209.tar.gz"
      ]
    },
    {
      "cell_type": "code",
      "execution_count": null,
      "metadata": {
        "id": "9arJZeXnbJz9"
      },
      "outputs": [],
      "source": []
    },
    {
      "cell_type": "code",
      "execution_count": null,
      "metadata": {
        "id": "xAkCwKVdbMqE"
      },
      "outputs": [],
      "source": [
        "# カテゴリーの一覧は以下の通りです。\n",
        "category_list = [\n",
        "    \"dokujo-tsushin\",\n",
        "    \"it-life-hack\",\n",
        "    \"kaden-channel\",\n",
        "    \"livedoor-homme\",\n",
        "    \"movie-enter\",\n",
        "    \"peachy\",\n",
        "    \"smax\",\n",
        "    \"sports-watch\",\n",
        "    \"topic-news\",\n",
        "]"
      ]
    },
    {
      "cell_type": "code",
      "execution_count": null,
      "metadata": {
        "id": "0oddK-vKelOk"
      },
      "outputs": [],
      "source": []
    },
    {
      "cell_type": "code",
      "execution_count": null,
      "metadata": {
        "id": "OWFZyX0melLj"
      },
      "outputs": [],
      "source": [
        "# ディレクトリをチェックして、リストに格納します。\n",
        "\n",
        "import glob\n",
        "\n",
        "# read files\n",
        "files1 = glob.glob('./text/*/*.txt')\n",
        "\n",
        "files2 = []\n",
        "for item in files1:\n",
        "    if \"LICENSE.txt\" not in item:\n",
        "        files2.append(item)\n",
        "\n",
        "len(files2)"
      ]
    },
    {
      "cell_type": "code",
      "execution_count": null,
      "metadata": {
        "id": "UTjmH7blelJy"
      },
      "outputs": [],
      "source": []
    },
    {
      "cell_type": "markdown",
      "metadata": {
        "id": "V-NAR-OEek9o"
      },
      "source": [
        "# Haggingface\n",
        "\n",
        "本プロジェクトではHaggingfaceのソースコードを利用します。\n",
        "\n",
        "https://github.com/huggingface/transformers\n"
      ]
    },
    {
      "cell_type": "code",
      "execution_count": null,
      "metadata": {
        "id": "O7eE9DbdPrp0"
      },
      "outputs": [],
      "source": [
        "# transformersをインストールします。\n",
        "!pip install transformers --upgrade"
      ]
    },
    {
      "cell_type": "code",
      "execution_count": null,
      "metadata": {
        "id": "_cIpR_0WPrl_"
      },
      "outputs": [],
      "source": [
        "from transformers import AutoTokenizer, RobertaForSequenceClassification, RobertaForMaskedLM, RobertaForSequenceClassification"
      ]
    },
    {
      "cell_type": "code",
      "source": [],
      "metadata": {
        "id": "nvvQuNbgDchl"
      },
      "execution_count": null,
      "outputs": []
    },
    {
      "cell_type": "markdown",
      "metadata": {
        "id": "Zrozw4hYQFaY"
      },
      "source": [
        "# トークナイザー"
      ]
    },
    {
      "cell_type": "code",
      "execution_count": null,
      "metadata": {
        "id": "zt88zOX6PrgS"
      },
      "outputs": [],
      "source": [
        "# tokenizer\n",
        "# 本当はトークナイザーも自作できた方が良いのですが、作成にはそこそこパワーのあるマシンが必要になるため、使えるものをご提供します。\n",
        "\n",
        "# トークナイザをダウンロード\n",
        "! wget https://payloadcms.shabelab.com/assets/datasets/roberta_base_tokenizer_0511.tar.gz\n",
        "\n",
        "# ダウンロードしたトークナイザを解凍\n",
        "! tar xvzf roberta_base_tokenizer_0511.tar.gz"
      ]
    },
    {
      "cell_type": "code",
      "execution_count": null,
      "metadata": {
        "id": "MEHSivuFPrdH"
      },
      "outputs": [],
      "source": [
        "# トークナイザをインスタンス化\n",
        "tokenizer = AutoTokenizer.from_pretrained(\"./roberta_base_tokenizer_0511\")"
      ]
    },
    {
      "cell_type": "code",
      "execution_count": null,
      "metadata": {
        "id": "ZKZxbjSwQPTS"
      },
      "outputs": [],
      "source": [
        "# トークナイザをテスト\n",
        "tokenizer(\"今日の晩御飯はカレーでした。\")"
      ]
    },
    {
      "cell_type": "code",
      "execution_count": null,
      "metadata": {
        "id": "zUIb-dChQPOc"
      },
      "outputs": [],
      "source": [
        "tokenizer.decode([0, 8296, 27403, 1751, 2908, 289, 14114, 4215, 283, 2])"
      ]
    },
    {
      "cell_type": "code",
      "execution_count": null,
      "metadata": {
        "id": "RRtH-Vm1QPHC"
      },
      "outputs": [],
      "source": []
    },
    {
      "cell_type": "markdown",
      "metadata": {
        "id": "61McE-GWelGN",
        "outputId": "d1615e0e-d868-4e09-9356-dfdd2f4ebf4f"
      },
      "source": [
        "# Datasetの準備\n",
        "\n",
        "ヒント動画を参考にしても良いですし、他のリソースを参考にしていただいても構いません。\n",
        "\n",
        "バッチデータを以下のような感じで取得して情報を出力すると\n",
        "```\n",
        "one_batch = next(iter(train_loader))\n",
        "print(\"one_batch count: \", len(one_batch))\n",
        "print(\"\")\n",
        "print(\"one_batch.0.shape: \", one_batch[0].shape)\n",
        "print(\"one_batch.1.shape: \", one_batch[1].shape)\n",
        "print(\"one_batch.2.shape: \", one_batch[2].shape)\n",
        "print(\"\")\n",
        "print(\"one_batch.1: \", one_batch[1])\n",
        "print(\"one_batch.2: \", one_batch[2])\n",
        "```\n",
        "\n",
        "以下のようなデータが出力されます。\n",
        "```\n",
        "one_batch count:  3\n",
        "\n",
        "one_batch.0.shape:  torch.Size([2, 512])\n",
        "one_batch.1.shape:  torch.Size([2, 512])\n",
        "one_batch.2.shape:  torch.Size([2, 1])\n",
        "\n",
        "one_batch.1:  tensor([[1, 1, 1,  ..., 1, 1, 1],\n",
        "        [1, 1, 1,  ..., 1, 1, 1]])\n",
        "one_batch.2:  tensor([[0],\n",
        "        [8]])\n",
        "```\n",
        "\n",
        "取得できるデータは順番に実際のインプットデータ、マスクデータ、そして正解ラベルとなっている必要があります。\n",
        "マスクデータはblock_sizeが512でインプットするデータのトークン数が512以上の場合（512までで残りはカットされます）は512個の1がならび、512未満の場合はトークンの存在するところまでは1でそれ以外（パディングで埋められた部分）が0となります。\n",
        "\n",
        "ところで、一つのバッチに入ってきたデータのトークン数が150と170など、いずれも最大直に満たない場合は、大きな方の値（この例では170）に揃えるようにしてください。\n",
        "\n",
        "ヒント1: 講師はDataset型を継承したMyDatasetを定義し、バッチ化する際にcollateファンクションを使ってマスクを作成しています。  \n",
        "ヒント2: transformersを使ったモデルが重たいので、バッチサイズは2くらいで十分です。"
      ]
    },
    {
      "cell_type": "code",
      "execution_count": null,
      "metadata": {
        "id": "4HJaer7FPgPN"
      },
      "outputs": [],
      "source": []
    },
    {
      "cell_type": "markdown",
      "metadata": {
        "id": "7gJ2Xo3aPR9B"
      },
      "source": [
        "# アーキテクチャ"
      ]
    },
    {
      "cell_type": "code",
      "execution_count": null,
      "metadata": {
        "id": "Bh7bhDQxPR9B"
      },
      "outputs": [],
      "source": [
        "# スクラッチでゼロから学習を行うには流石にデータセットが少ないので、pre-trainedのウェイトをダウンロードし、\n",
        "# そこからファインチューニングを書けることにします。\n",
        "! wget https://payloadcms.shabelab.com/assets/datasets/roberta-pretrain-0-1500000.tar.gz"
      ]
    },
    {
      "cell_type": "code",
      "execution_count": null,
      "metadata": {
        "id": "r9CQLbYxRTMs"
      },
      "outputs": [],
      "source": [
        "# ダウンロードしてきたウェイトを解凍します。\n",
        "! tar xvaf roberta-pretrain-0-1500000.tar.gz"
      ]
    },
    {
      "cell_type": "code",
      "execution_count": null,
      "metadata": {
        "id": "mPwVxnZ-dD6g"
      },
      "outputs": [],
      "source": [
        "# change number of lables\n",
        "\n",
        "# mm_config.num_labels = 9\n",
        "model = RobertaForSequenceClassification.from_pretrained(\n",
        "    \"./roberta-pretrain-0-1500000/\", num_labels=9)\n",
        "\n",
        "model.classifier\n"
      ]
    },
    {
      "cell_type": "code",
      "execution_count": null,
      "metadata": {
        "id": "j1WwaOJMPR9C"
      },
      "outputs": [],
      "source": []
    },
    {
      "cell_type": "markdown",
      "metadata": {
        "id": "VPUKDnmYPR9C"
      },
      "source": [
        "# トレーニングループ\n",
        "\n",
        "下記を参考に学習ループを自分で作成しましょう。  \n",
        "https://huggingface.co/transformers/model_doc/roberta.html#robertaforsequenceclassification\n",
        "\n",
        "ヒント: GoogleのColabは1時間触らないでいるとタイムアウトします。学習には最低でも数時間かかります。  \n",
        "途中で止めて、そこまでのウェイトを保存、ダウンロードして、次回をそれをアップロード、読み込むことで途中から始めることも可能です。"
      ]
    },
    {
      "cell_type": "code",
      "execution_count": null,
      "metadata": {
        "id": "GwHWijoXfbX0"
      },
      "outputs": [],
      "source": [
        "# optimizer\n",
        "# 下記はadamを使っていますが、他のものを使ってもokです。\n",
        "\n",
        "optimizer = torch.optim.Adam(model.parameters(), lr=2e-5)"
      ]
    },
    {
      "cell_type": "code",
      "execution_count": null,
      "metadata": {
        "id": "ddW9kLvdfhef"
      },
      "outputs": [],
      "source": [
        "# device\n",
        "\n",
        "device = torch.device(\"cuda:0\")\n",
        "model = model.to(device)\n"
      ]
    },
    {
      "cell_type": "code",
      "execution_count": null,
      "metadata": {
        "id": "Ro-t8OLgdvTf"
      },
      "outputs": [],
      "source": [
        "# 学習ループ\n",
        "# ここに for ループを作成してください。\n"
      ]
    },
    {
      "cell_type": "code",
      "execution_count": null,
      "metadata": {
        "id": "a4-GHk8PwN5_"
      },
      "outputs": [],
      "source": []
    },
    {
      "cell_type": "code",
      "execution_count": null,
      "metadata": {
        "id": "aHOj_z4MPR9D"
      },
      "outputs": [],
      "source": [
        "# save\n",
        "model.save_pretrained(\"checkpoint-1\")"
      ]
    },
    {
      "cell_type": "code",
      "execution_count": null,
      "metadata": {
        "id": "qld99PDRPR9E"
      },
      "outputs": [],
      "source": []
    },
    {
      "cell_type": "markdown",
      "metadata": {
        "id": "eYYQ9nZzPR9E"
      },
      "source": [
        "# テスト\n",
        "\n",
        "下記は変更の必要はありません。  \n",
        "\"sports-watch\"として推論できれば正解です。\n"
      ]
    },
    {
      "cell_type": "code",
      "execution_count": null,
      "metadata": {
        "id": "it_H6_vjfQmf"
      },
      "outputs": [],
      "source": [
        "from transformers import AutoTokenizer, RobertaForSequenceClassification, RobertaForMaskedLM"
      ]
    },
    {
      "cell_type": "code",
      "execution_count": null,
      "metadata": {
        "id": "65NWzKbNhoBO"
      },
      "outputs": [],
      "source": []
    },
    {
      "cell_type": "code",
      "execution_count": null,
      "metadata": {
        "id": "TAOj7Z7shrCK"
      },
      "outputs": [],
      "source": [
        "model2 = model.from_pretrained(\"checkpoint-1\")\n",
        "model2.classifier"
      ]
    },
    {
      "cell_type": "code",
      "execution_count": null,
      "metadata": {
        "id": "jeFKS8hqhukG"
      },
      "outputs": [],
      "source": [
        "sample = \"前田智徳氏、走攻守そろった新人・近本光司を称賛　「ルーキーではなかなかできません」0LINE共有ボタン2019年5月23日 13時30分 Sports Watch22日放送、テレビ朝日「報道ステーション」に、野球解説者の前田智徳氏が出演。阪神タイガースの新人・近本光司を称賛した。同日の東京ヤクルトスワローズ戦で、近本は守備でチームを救った。1-1の同点で迎えた5回表、二死二塁のピンチで、見事なバックホームから失点を防いだ。危機を脱した阪神は、7回ウラに糸井嘉男のタイムリーで勝ち越し、連勝を飾っている。前田氏は近本の守備を称賛したうえで、「注目は足」と述べた。この日の近本は、1回に内野安打で出塁すると盗塁成功。5回にも三盗を決めている。盗塁数はリーグトップの13。新人で盗塁王となれば、39盗塁を記録した2001年の赤星憲広以来、18年ぶりの快挙だ。前田氏は「十分にチャンスはある」と、近本のさらなる盗塁に太鼓判を押す。さらに、前田氏は「軸足にしっかり体重を乗せて、レフト（逆方向）へ力強い打球を打てる」と、近本の打撃にも称賛。「ルーキーではなかなかできません」と、走攻守の三拍子がそろった近本が新人離れしていると賛辞を寄せた。\"\n",
        "\n",
        "input_ids = tokenizer(\n",
        "        sample,\n",
        "        add_special_tokens=True,\n",
        "        return_tensors=\"pt\",\n",
        "        max_length=512,\n",
        "        truncation=True,).input_ids\n",
        "\n",
        "input_ids.shape\n"
      ]
    },
    {
      "cell_type": "code",
      "execution_count": null,
      "metadata": {
        "id": "-riKiruxh686"
      },
      "outputs": [],
      "source": [
        "resuslts = model2(input_ids=input_ids)\n",
        "\n",
        "logits = resuslts.logits\n",
        "logits.shape"
      ]
    },
    {
      "cell_type": "code",
      "execution_count": null,
      "metadata": {
        "id": "oThKnH3fh6yj"
      },
      "outputs": [],
      "source": [
        "_index = logits.argmax().item()\n",
        "_index"
      ]
    },
    {
      "cell_type": "code",
      "execution_count": null,
      "metadata": {
        "id": "4vCieitAiAev"
      },
      "outputs": [],
      "source": [
        "category_list[_index]"
      ]
    },
    {
      "cell_type": "code",
      "execution_count": null,
      "metadata": {
        "id": "iJImVVEpiCAz"
      },
      "outputs": [],
      "source": []
    }
  ],
  "metadata": {
    "accelerator": "GPU",
    "colab": {
      "provenance": []
    },
    "kernelspec": {
      "display_name": "Python 3",
      "language": "python",
      "name": "python3"
    },
    "language_info": {
      "codemirror_mode": {
        "name": "ipython",
        "version": 3
      },
      "file_extension": ".py",
      "mimetype": "text/x-python",
      "name": "python",
      "nbconvert_exporter": "python",
      "pygments_lexer": "ipython3",
      "version": "3.6.9"
    }
  },
  "nbformat": 4,
  "nbformat_minor": 0
}